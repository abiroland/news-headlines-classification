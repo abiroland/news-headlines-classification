{
  "cells": [
    {
      "cell_type": "code",
      "execution_count": 2,
      "id": "f2abb0c9",
      "metadata": {
        "id": "f2abb0c9"
      },
      "outputs": [
        {
          "data": {
            "text/plain": [
              "'!\"#$%&\\'()*+,-./:;<=>?@[\\\\]^_`{|}~'"
            ]
          },
          "execution_count": 2,
          "metadata": {},
          "output_type": "execute_result"
        }
      ],
      "source": [
        "import os\n",
        "import glob\n",
        "import pathlib\n",
        "import pandas as pd\n",
        "import string\n",
        "import nltk\n",
        "string.punctuation"
      ]
    },
    {
      "cell_type": "code",
      "execution_count": 3,
      "id": "d4843a53",
      "metadata": {},
      "outputs": [],
      "source": [
        "# defining function that contains punctuation removal\n",
        "def remove_punctuation(text):\n",
        "    no_punct = \"\".join([c for c in text if c not in string.punctuation])\n",
        "    return no_punct"
      ]
    },
    {
      "cell_type": "markdown",
      "id": "ea5e3932",
      "metadata": {
        "id": "ea5e3932"
      },
      "source": [
        "## Extracting files\n"
      ]
    },
    {
      "cell_type": "code",
      "execution_count": 4,
      "id": "76fac624",
      "metadata": {
        "id": "76fac624"
      },
      "outputs": [],
      "source": [
        "def extract_files(folder_path):\n",
        "    csv_files = glob.glob(os.path.join(folder_path, \"*.csv\"))\n",
        "    dataframes = []\n",
        "\n",
        "    for file in csv_files:\n",
        "        df = pd.read_csv(file)\n",
        "        dataframes.append(df)\n",
        "    return dataframes\n",
        "\n",
        "\n",
        "extracted = extract_files(\"Topic_modelling\")"
      ]
    },
    {
      "cell_type": "code",
      "execution_count": 5,
      "id": "870ea5d5",
      "metadata": {
        "id": "870ea5d5"
      },
      "outputs": [],
      "source": [
        "alldata = pd.DataFrame()\n",
        "for listitems in extracted:\n",
        "    alldata = pd.concat([alldata, listitems])"
      ]
    },
    {
      "cell_type": "markdown",
      "id": "70686584",
      "metadata": {},
      "source": [
        "Remove punctuation, numbers and stopwords from the text. Then, apply stemming to the words."
      ]
    },
    {
      "cell_type": "code",
      "execution_count": 6,
      "id": "a4104530",
      "metadata": {},
      "outputs": [],
      "source": [
        "alldata[\"remove_puntuations\"] = alldata[\"headlines\"].apply(lambda x: remove_punctuation(x))\n",
        "alldata[\"to_lower\"] = alldata[\"remove_puntuations\"].apply(lambda x: x.lower())"
      ]
    },
    {
      "cell_type": "markdown",
      "id": "c311c053",
      "metadata": {},
      "source": [
        "### BerTopic Modeling\n"
      ]
    },
    {
      "cell_type": "code",
      "execution_count": 10,
      "id": "e050292f",
      "metadata": {},
      "outputs": [],
      "source": [
        "topic_model_df = pd.DataFrame()\n",
        "topic_model_df[\"headlines\"] = alldata[\"to_lower\"]"
      ]
    },
    {
      "cell_type": "code",
      "execution_count": 11,
      "id": "c6cbcefd",
      "metadata": {},
      "outputs": [],
      "source": [
        "# Load api key\n",
        "import os\n",
        "from dotenv import load_dotenv\n",
        "\n",
        "load_dotenv()\n",
        "api_key = os.getenv(\"OPENAI_API_KEY\")"
      ]
    },
    {
      "cell_type": "code",
      "execution_count": 103,
      "id": "66092b17",
      "metadata": {},
      "outputs": [
        {
          "name": "stderr",
          "output_type": "stream",
          "text": [
            "loading configuration file config.json from cache at C:\\Users\\abiro\\.cache\\huggingface\\hub\\models--facebook--bart-large-mnli\\snapshots\\d7645e127eaf1aefc7862fd59a17a5aa8558b8ce\\config.json\n",
            "Model config BartConfig {\n",
            "  \"_name_or_path\": \"facebook/bart-large-mnli\",\n",
            "  \"_num_labels\": 3,\n",
            "  \"activation_dropout\": 0.0,\n",
            "  \"activation_function\": \"gelu\",\n",
            "  \"add_final_layer_norm\": false,\n",
            "  \"architectures\": [\n",
            "    \"BartForSequenceClassification\"\n",
            "  ],\n",
            "  \"attention_dropout\": 0.0,\n",
            "  \"bos_token_id\": 0,\n",
            "  \"classif_dropout\": 0.0,\n",
            "  \"classifier_dropout\": 0.0,\n",
            "  \"d_model\": 1024,\n",
            "  \"decoder_attention_heads\": 16,\n",
            "  \"decoder_ffn_dim\": 4096,\n",
            "  \"decoder_layerdrop\": 0.0,\n",
            "  \"decoder_layers\": 12,\n",
            "  \"decoder_start_token_id\": 2,\n",
            "  \"dropout\": 0.1,\n",
            "  \"encoder_attention_heads\": 16,\n",
            "  \"encoder_ffn_dim\": 4096,\n",
            "  \"encoder_layerdrop\": 0.0,\n",
            "  \"encoder_layers\": 12,\n",
            "  \"eos_token_id\": 2,\n",
            "  \"forced_eos_token_id\": 2,\n",
            "  \"gradient_checkpointing\": false,\n",
            "  \"id2label\": {\n",
            "    \"0\": \"contradiction\",\n",
            "    \"1\": \"neutral\",\n",
            "    \"2\": \"entailment\"\n",
            "  },\n",
            "  \"init_std\": 0.02,\n",
            "  \"is_encoder_decoder\": true,\n",
            "  \"label2id\": {\n",
            "    \"contradiction\": 0,\n",
            "    \"entailment\": 2,\n",
            "    \"neutral\": 1\n",
            "  },\n",
            "  \"max_position_embeddings\": 1024,\n",
            "  \"model_type\": \"bart\",\n",
            "  \"normalize_before\": false,\n",
            "  \"num_hidden_layers\": 12,\n",
            "  \"output_past\": false,\n",
            "  \"pad_token_id\": 1,\n",
            "  \"scale_embedding\": false,\n",
            "  \"transformers_version\": \"4.39.3\",\n",
            "  \"use_cache\": true,\n",
            "  \"vocab_size\": 50265\n",
            "}\n",
            "\n",
            "loading configuration file config.json from cache at C:\\Users\\abiro\\.cache\\huggingface\\hub\\models--facebook--bart-large-mnli\\snapshots\\d7645e127eaf1aefc7862fd59a17a5aa8558b8ce\\config.json\n",
            "Model config BartConfig {\n",
            "  \"_name_or_path\": \"facebook/bart-large-mnli\",\n",
            "  \"_num_labels\": 3,\n",
            "  \"activation_dropout\": 0.0,\n",
            "  \"activation_function\": \"gelu\",\n",
            "  \"add_final_layer_norm\": false,\n",
            "  \"architectures\": [\n",
            "    \"BartForSequenceClassification\"\n",
            "  ],\n",
            "  \"attention_dropout\": 0.0,\n",
            "  \"bos_token_id\": 0,\n",
            "  \"classif_dropout\": 0.0,\n",
            "  \"classifier_dropout\": 0.0,\n",
            "  \"d_model\": 1024,\n",
            "  \"decoder_attention_heads\": 16,\n",
            "  \"decoder_ffn_dim\": 4096,\n",
            "  \"decoder_layerdrop\": 0.0,\n",
            "  \"decoder_layers\": 12,\n",
            "  \"decoder_start_token_id\": 2,\n",
            "  \"dropout\": 0.1,\n",
            "  \"encoder_attention_heads\": 16,\n",
            "  \"encoder_ffn_dim\": 4096,\n",
            "  \"encoder_layerdrop\": 0.0,\n",
            "  \"encoder_layers\": 12,\n",
            "  \"eos_token_id\": 2,\n",
            "  \"forced_eos_token_id\": 2,\n",
            "  \"gradient_checkpointing\": false,\n",
            "  \"id2label\": {\n",
            "    \"0\": \"contradiction\",\n",
            "    \"1\": \"neutral\",\n",
            "    \"2\": \"entailment\"\n",
            "  },\n",
            "  \"init_std\": 0.02,\n",
            "  \"is_encoder_decoder\": true,\n",
            "  \"label2id\": {\n",
            "    \"contradiction\": 0,\n",
            "    \"entailment\": 2,\n",
            "    \"neutral\": 1\n",
            "  },\n",
            "  \"max_position_embeddings\": 1024,\n",
            "  \"model_type\": \"bart\",\n",
            "  \"normalize_before\": false,\n",
            "  \"num_hidden_layers\": 12,\n",
            "  \"output_past\": false,\n",
            "  \"pad_token_id\": 1,\n",
            "  \"scale_embedding\": false,\n",
            "  \"transformers_version\": \"4.39.3\",\n",
            "  \"use_cache\": true,\n",
            "  \"vocab_size\": 50265\n",
            "}\n",
            "\n",
            "loading weights file model.safetensors from cache at C:\\Users\\abiro\\.cache\\huggingface\\hub\\models--facebook--bart-large-mnli\\snapshots\\d7645e127eaf1aefc7862fd59a17a5aa8558b8ce\\model.safetensors\n",
            "All model checkpoint weights were used when initializing BartForSequenceClassification.\n",
            "\n",
            "All the weights of BartForSequenceClassification were initialized from the model checkpoint at facebook/bart-large-mnli.\n",
            "If your task is similar to the task the model of the checkpoint was trained on, you can already use BartForSequenceClassification for predictions without further training.\n",
            "loading configuration file config.json from cache at C:\\Users\\abiro\\.cache\\huggingface\\hub\\models--facebook--bart-large-mnli\\snapshots\\d7645e127eaf1aefc7862fd59a17a5aa8558b8ce\\config.json\n",
            "Model config BartConfig {\n",
            "  \"_name_or_path\": \"facebook/bart-large-mnli\",\n",
            "  \"_num_labels\": 3,\n",
            "  \"activation_dropout\": 0.0,\n",
            "  \"activation_function\": \"gelu\",\n",
            "  \"add_final_layer_norm\": false,\n",
            "  \"architectures\": [\n",
            "    \"BartForSequenceClassification\"\n",
            "  ],\n",
            "  \"attention_dropout\": 0.0,\n",
            "  \"bos_token_id\": 0,\n",
            "  \"classif_dropout\": 0.0,\n",
            "  \"classifier_dropout\": 0.0,\n",
            "  \"d_model\": 1024,\n",
            "  \"decoder_attention_heads\": 16,\n",
            "  \"decoder_ffn_dim\": 4096,\n",
            "  \"decoder_layerdrop\": 0.0,\n",
            "  \"decoder_layers\": 12,\n",
            "  \"decoder_start_token_id\": 2,\n",
            "  \"dropout\": 0.1,\n",
            "  \"encoder_attention_heads\": 16,\n",
            "  \"encoder_ffn_dim\": 4096,\n",
            "  \"encoder_layerdrop\": 0.0,\n",
            "  \"encoder_layers\": 12,\n",
            "  \"eos_token_id\": 2,\n",
            "  \"forced_eos_token_id\": 2,\n",
            "  \"gradient_checkpointing\": false,\n",
            "  \"id2label\": {\n",
            "    \"0\": \"contradiction\",\n",
            "    \"1\": \"neutral\",\n",
            "    \"2\": \"entailment\"\n",
            "  },\n",
            "  \"init_std\": 0.02,\n",
            "  \"is_encoder_decoder\": true,\n",
            "  \"label2id\": {\n",
            "    \"contradiction\": 0,\n",
            "    \"entailment\": 2,\n",
            "    \"neutral\": 1\n",
            "  },\n",
            "  \"max_position_embeddings\": 1024,\n",
            "  \"model_type\": \"bart\",\n",
            "  \"normalize_before\": false,\n",
            "  \"num_hidden_layers\": 12,\n",
            "  \"output_past\": false,\n",
            "  \"pad_token_id\": 1,\n",
            "  \"scale_embedding\": false,\n",
            "  \"transformers_version\": \"4.39.3\",\n",
            "  \"use_cache\": true,\n",
            "  \"vocab_size\": 50265\n",
            "}\n",
            "\n",
            "loading file vocab.json from cache at C:\\Users\\abiro\\.cache\\huggingface\\hub\\models--facebook--bart-large-mnli\\snapshots\\d7645e127eaf1aefc7862fd59a17a5aa8558b8ce\\vocab.json\n",
            "loading file merges.txt from cache at C:\\Users\\abiro\\.cache\\huggingface\\hub\\models--facebook--bart-large-mnli\\snapshots\\d7645e127eaf1aefc7862fd59a17a5aa8558b8ce\\merges.txt\n",
            "loading file tokenizer.json from cache at C:\\Users\\abiro\\.cache\\huggingface\\hub\\models--facebook--bart-large-mnli\\snapshots\\d7645e127eaf1aefc7862fd59a17a5aa8558b8ce\\tokenizer.json\n",
            "loading file added_tokens.json from cache at None\n",
            "loading file special_tokens_map.json from cache at None\n",
            "loading file tokenizer_config.json from cache at C:\\Users\\abiro\\.cache\\huggingface\\hub\\models--facebook--bart-large-mnli\\snapshots\\d7645e127eaf1aefc7862fd59a17a5aa8558b8ce\\tokenizer_config.json\n",
            "loading configuration file config.json from cache at C:\\Users\\abiro\\.cache\\huggingface\\hub\\models--facebook--bart-large-mnli\\snapshots\\d7645e127eaf1aefc7862fd59a17a5aa8558b8ce\\config.json\n",
            "Model config BartConfig {\n",
            "  \"_name_or_path\": \"facebook/bart-large-mnli\",\n",
            "  \"_num_labels\": 3,\n",
            "  \"activation_dropout\": 0.0,\n",
            "  \"activation_function\": \"gelu\",\n",
            "  \"add_final_layer_norm\": false,\n",
            "  \"architectures\": [\n",
            "    \"BartForSequenceClassification\"\n",
            "  ],\n",
            "  \"attention_dropout\": 0.0,\n",
            "  \"bos_token_id\": 0,\n",
            "  \"classif_dropout\": 0.0,\n",
            "  \"classifier_dropout\": 0.0,\n",
            "  \"d_model\": 1024,\n",
            "  \"decoder_attention_heads\": 16,\n",
            "  \"decoder_ffn_dim\": 4096,\n",
            "  \"decoder_layerdrop\": 0.0,\n",
            "  \"decoder_layers\": 12,\n",
            "  \"decoder_start_token_id\": 2,\n",
            "  \"dropout\": 0.1,\n",
            "  \"encoder_attention_heads\": 16,\n",
            "  \"encoder_ffn_dim\": 4096,\n",
            "  \"encoder_layerdrop\": 0.0,\n",
            "  \"encoder_layers\": 12,\n",
            "  \"eos_token_id\": 2,\n",
            "  \"forced_eos_token_id\": 2,\n",
            "  \"gradient_checkpointing\": false,\n",
            "  \"id2label\": {\n",
            "    \"0\": \"contradiction\",\n",
            "    \"1\": \"neutral\",\n",
            "    \"2\": \"entailment\"\n",
            "  },\n",
            "  \"init_std\": 0.02,\n",
            "  \"is_encoder_decoder\": true,\n",
            "  \"label2id\": {\n",
            "    \"contradiction\": 0,\n",
            "    \"entailment\": 2,\n",
            "    \"neutral\": 1\n",
            "  },\n",
            "  \"max_position_embeddings\": 1024,\n",
            "  \"model_type\": \"bart\",\n",
            "  \"normalize_before\": false,\n",
            "  \"num_hidden_layers\": 12,\n",
            "  \"output_past\": false,\n",
            "  \"pad_token_id\": 1,\n",
            "  \"scale_embedding\": false,\n",
            "  \"transformers_version\": \"4.39.3\",\n",
            "  \"use_cache\": true,\n",
            "  \"vocab_size\": 50265\n",
            "}\n",
            "\n",
            "loading configuration file config.json from cache at C:\\Users\\abiro\\.cache\\huggingface\\hub\\models--distilbert-base-cased\\snapshots\\6ea81172465e8b0ad3fddeed32b986cdcdcffcf0\\config.json\n",
            "Model config DistilBertConfig {\n",
            "  \"_name_or_path\": \"distilbert-base-cased\",\n",
            "  \"activation\": \"gelu\",\n",
            "  \"architectures\": [\n",
            "    \"DistilBertForMaskedLM\"\n",
            "  ],\n",
            "  \"attention_dropout\": 0.1,\n",
            "  \"dim\": 768,\n",
            "  \"dropout\": 0.1,\n",
            "  \"hidden_dim\": 3072,\n",
            "  \"initializer_range\": 0.02,\n",
            "  \"max_position_embeddings\": 512,\n",
            "  \"model_type\": \"distilbert\",\n",
            "  \"n_heads\": 12,\n",
            "  \"n_layers\": 6,\n",
            "  \"output_past\": true,\n",
            "  \"pad_token_id\": 0,\n",
            "  \"qa_dropout\": 0.1,\n",
            "  \"seq_classif_dropout\": 0.2,\n",
            "  \"sinusoidal_pos_embds\": false,\n",
            "  \"tie_weights_\": true,\n",
            "  \"transformers_version\": \"4.39.3\",\n",
            "  \"vocab_size\": 28996\n",
            "}\n",
            "\n",
            "loading configuration file config.json from cache at C:\\Users\\abiro\\.cache\\huggingface\\hub\\models--distilbert-base-cased\\snapshots\\6ea81172465e8b0ad3fddeed32b986cdcdcffcf0\\config.json\n",
            "Model config DistilBertConfig {\n",
            "  \"_name_or_path\": \"distilbert-base-cased\",\n",
            "  \"activation\": \"gelu\",\n",
            "  \"architectures\": [\n",
            "    \"DistilBertForMaskedLM\"\n",
            "  ],\n",
            "  \"attention_dropout\": 0.1,\n",
            "  \"dim\": 768,\n",
            "  \"dropout\": 0.1,\n",
            "  \"hidden_dim\": 3072,\n",
            "  \"initializer_range\": 0.02,\n",
            "  \"max_position_embeddings\": 512,\n",
            "  \"model_type\": \"distilbert\",\n",
            "  \"n_heads\": 12,\n",
            "  \"n_layers\": 6,\n",
            "  \"output_past\": true,\n",
            "  \"pad_token_id\": 0,\n",
            "  \"qa_dropout\": 0.1,\n",
            "  \"seq_classif_dropout\": 0.2,\n",
            "  \"sinusoidal_pos_embds\": false,\n",
            "  \"tie_weights_\": true,\n",
            "  \"transformers_version\": \"4.39.3\",\n",
            "  \"vocab_size\": 28996\n",
            "}\n",
            "\n",
            "loading weights file model.safetensors from cache at C:\\Users\\abiro\\.cache\\huggingface\\hub\\models--distilbert-base-cased\\snapshots\\6ea81172465e8b0ad3fddeed32b986cdcdcffcf0\\model.safetensors\n",
            "Some weights of the model checkpoint at distilbert-base-cased were not used when initializing DistilBertModel: ['vocab_layer_norm.bias', 'vocab_layer_norm.weight', 'vocab_projector.bias', 'vocab_transform.bias', 'vocab_transform.weight']\n",
            "- This IS expected if you are initializing DistilBertModel from the checkpoint of a model trained on another task or with another architecture (e.g. initializing a BertForSequenceClassification model from a BertForPreTraining model).\n",
            "- This IS NOT expected if you are initializing DistilBertModel from the checkpoint of a model that you expect to be exactly identical (initializing a BertForSequenceClassification model from a BertForSequenceClassification model).\n",
            "All the weights of DistilBertModel were initialized from the model checkpoint at distilbert-base-cased.\n",
            "If your task is similar to the task the model of the checkpoint was trained on, you can already use DistilBertModel for predictions without further training.\n",
            "loading configuration file config.json from cache at C:\\Users\\abiro\\.cache\\huggingface\\hub\\models--distilbert-base-cased\\snapshots\\6ea81172465e8b0ad3fddeed32b986cdcdcffcf0\\config.json\n",
            "Model config DistilBertConfig {\n",
            "  \"_name_or_path\": \"distilbert-base-cased\",\n",
            "  \"activation\": \"gelu\",\n",
            "  \"architectures\": [\n",
            "    \"DistilBertForMaskedLM\"\n",
            "  ],\n",
            "  \"attention_dropout\": 0.1,\n",
            "  \"dim\": 768,\n",
            "  \"dropout\": 0.1,\n",
            "  \"hidden_dim\": 3072,\n",
            "  \"initializer_range\": 0.02,\n",
            "  \"max_position_embeddings\": 512,\n",
            "  \"model_type\": \"distilbert\",\n",
            "  \"n_heads\": 12,\n",
            "  \"n_layers\": 6,\n",
            "  \"output_past\": true,\n",
            "  \"pad_token_id\": 0,\n",
            "  \"qa_dropout\": 0.1,\n",
            "  \"seq_classif_dropout\": 0.2,\n",
            "  \"sinusoidal_pos_embds\": false,\n",
            "  \"tie_weights_\": true,\n",
            "  \"transformers_version\": \"4.39.3\",\n",
            "  \"vocab_size\": 28996\n",
            "}\n",
            "\n",
            "loading file vocab.txt from cache at C:\\Users\\abiro\\.cache\\huggingface\\hub\\models--distilbert-base-cased\\snapshots\\6ea81172465e8b0ad3fddeed32b986cdcdcffcf0\\vocab.txt\n",
            "loading file tokenizer.json from cache at C:\\Users\\abiro\\.cache\\huggingface\\hub\\models--distilbert-base-cased\\snapshots\\6ea81172465e8b0ad3fddeed32b986cdcdcffcf0\\tokenizer.json\n",
            "loading file added_tokens.json from cache at None\n",
            "loading file special_tokens_map.json from cache at None\n",
            "loading file tokenizer_config.json from cache at C:\\Users\\abiro\\.cache\\huggingface\\hub\\models--distilbert-base-cased\\snapshots\\6ea81172465e8b0ad3fddeed32b986cdcdcffcf0\\tokenizer_config.json\n",
            "loading configuration file config.json from cache at C:\\Users\\abiro\\.cache\\huggingface\\hub\\models--distilbert-base-cased\\snapshots\\6ea81172465e8b0ad3fddeed32b986cdcdcffcf0\\config.json\n",
            "Model config DistilBertConfig {\n",
            "  \"_name_or_path\": \"distilbert-base-cased\",\n",
            "  \"activation\": \"gelu\",\n",
            "  \"architectures\": [\n",
            "    \"DistilBertForMaskedLM\"\n",
            "  ],\n",
            "  \"attention_dropout\": 0.1,\n",
            "  \"dim\": 768,\n",
            "  \"dropout\": 0.1,\n",
            "  \"hidden_dim\": 3072,\n",
            "  \"initializer_range\": 0.02,\n",
            "  \"max_position_embeddings\": 512,\n",
            "  \"model_type\": \"distilbert\",\n",
            "  \"n_heads\": 12,\n",
            "  \"n_layers\": 6,\n",
            "  \"output_past\": true,\n",
            "  \"pad_token_id\": 0,\n",
            "  \"qa_dropout\": 0.1,\n",
            "  \"seq_classif_dropout\": 0.2,\n",
            "  \"sinusoidal_pos_embds\": false,\n",
            "  \"tie_weights_\": true,\n",
            "  \"transformers_version\": \"4.39.3\",\n",
            "  \"vocab_size\": 28996\n",
            "}\n",
            "\n"
          ]
        }
      ],
      "source": [
        "import openai\n",
        "from bertopic import BERTopic\n",
        "from bertopic.representation import ZeroShotClassification\n",
        "#from bertopic.representation import OpenAI\n",
        "from transformers.pipelines import pipeline\n",
        "#from sentence_transformers import SentenceTransformer\n",
        "from hdbscan import HDBSCAN\n",
        "from umap import UMAP\n",
        "\n",
        "\n",
        "client = openai.OpenAI(api_key=api_key)\n",
        "\n",
        "# Define the models\n",
        "#representation_model = OpenAI(client, model=\"gpt-3.5-turbo\", chat=True)\n",
        "candidate_topics = ['business', 'politics', 'sports', 'health', 'technology', 'entertainment', 'science', 'world', 'economy', 'education']\n",
        "representation_model = ZeroShotClassification(candidate_topics, model=\"facebook/bart-large-mnli\")\n",
        "#embedding_model = SentenceTransformer('all-MiniLM-L6-v2')\n",
        "embedding_model = pipeline(\"feature-extraction\", model=\"distilbert-base-cased\")\n",
        "umap_model = UMAP(n_neighbors=20, n_components=5, min_dist=1.5, \n",
        "                 metric='cosine', random_state=42)\n",
        "hdbscan_model = HDBSCAN(min_cluster_size=100, metric='euclidean',\n",
        "                        cluster_selection_method='eom', \n",
        "                        prediction_data=True)\n",
        "\n",
        "# NOTE: A higher min_cluster_size will lead to a more conservative topic extraction"
      ]
    },
    {
      "cell_type": "code",
      "execution_count": 95,
      "id": "76474247",
      "metadata": {},
      "outputs": [],
      "source": [
        "from sklearn.feature_extraction.text import CountVectorizer\n",
        "vectorizer_model = CountVectorizer(stop_words=\"english\", ngram_range=(1, 1))"
      ]
    },
    {
      "cell_type": "code",
      "execution_count": 104,
      "id": "09a71a6f",
      "metadata": {},
      "outputs": [],
      "source": [
        "# Train the model\n",
        "model = BERTopic(\n",
        "    embedding_model=embedding_model,\n",
        "    umap_model=umap_model,\n",
        "    hdbscan_model=hdbscan_model,\n",
        "    vectorizer_model=vectorizer_model,\n",
        "    representation_model=representation_model,\n",
        "\n",
        "    top_n_words=5,\n",
        "    verbose=True\n",
        ")\n",
        "\n"
      ]
    },
    {
      "cell_type": "code",
      "execution_count": 105,
      "id": "4a7a028b",
      "metadata": {},
      "outputs": [
        {
          "name": "stderr",
          "output_type": "stream",
          "text": [
            "2024-10-15 22:48:31,091 - BERTopic - Embedding - Transforming documents to embeddings.\n",
            "100%|██████████| 10000/10000 [11:11<00:00, 14.90it/s]\n",
            "2024-10-15 22:59:42,366 - BERTopic - Embedding - Completed ✓\n",
            "2024-10-15 22:59:42,366 - BERTopic - Dimensionality - Fitting the dimensionality reduction algorithm\n",
            "C:\\Users\\abiro\\AppData\\Local\\Packages\\PythonSoftwareFoundation.Python.3.11_qbz5n2kfra8p0\\LocalCache\\local-packages\\Python311\\site-packages\\umap\\umap_.py:1394: RuntimeWarning:\n",
            "\n",
            "divide by zero encountered in power\n",
            "\n"
          ]
        },
        {
          "ename": "ValueError",
          "evalue": "min_dist must be less than or equal to spread",
          "output_type": "error",
          "traceback": [
            "\u001b[1;31m---------------------------------------------------------------------------\u001b[0m",
            "\u001b[1;31mValueError\u001b[0m                                Traceback (most recent call last)",
            "Cell \u001b[1;32mIn[105], line 1\u001b[0m\n\u001b[1;32m----> 1\u001b[0m topics, probs \u001b[38;5;241m=\u001b[39m \u001b[43mmodel\u001b[49m\u001b[38;5;241;43m.\u001b[39;49m\u001b[43mfit_transform\u001b[49m\u001b[43m(\u001b[49m\u001b[43mtopic_model_df\u001b[49m\u001b[43m[\u001b[49m\u001b[38;5;124;43m\"\u001b[39;49m\u001b[38;5;124;43mheadlines\u001b[39;49m\u001b[38;5;124;43m\"\u001b[39;49m\u001b[43m]\u001b[49m\u001b[43m)\u001b[49m\n",
            "File \u001b[1;32m~\\AppData\\Local\\Packages\\PythonSoftwareFoundation.Python.3.11_qbz5n2kfra8p0\\LocalCache\\local-packages\\Python311\\site-packages\\bertopic\\_bertopic.py:449\u001b[0m, in \u001b[0;36mBERTopic.fit_transform\u001b[1;34m(self, documents, embeddings, images, y)\u001b[0m\n\u001b[0;32m    446\u001b[0m     y, embeddings \u001b[38;5;241m=\u001b[39m \u001b[38;5;28mself\u001b[39m\u001b[38;5;241m.\u001b[39m_guided_topic_modeling(embeddings)\n\u001b[0;32m    448\u001b[0m \u001b[38;5;66;03m# Reduce dimensionality and fit UMAP model\u001b[39;00m\n\u001b[1;32m--> 449\u001b[0m umap_embeddings \u001b[38;5;241m=\u001b[39m \u001b[38;5;28;43mself\u001b[39;49m\u001b[38;5;241;43m.\u001b[39;49m\u001b[43m_reduce_dimensionality\u001b[49m\u001b[43m(\u001b[49m\u001b[43membeddings\u001b[49m\u001b[43m,\u001b[49m\u001b[43m \u001b[49m\u001b[43my\u001b[49m\u001b[43m)\u001b[49m\n\u001b[0;32m    451\u001b[0m \u001b[38;5;66;03m# Zero-shot Topic Modeling\u001b[39;00m\n\u001b[0;32m    452\u001b[0m \u001b[38;5;28;01mif\u001b[39;00m \u001b[38;5;28mself\u001b[39m\u001b[38;5;241m.\u001b[39m_is_zeroshot():\n",
            "File \u001b[1;32m~\\AppData\\Local\\Packages\\PythonSoftwareFoundation.Python.3.11_qbz5n2kfra8p0\\LocalCache\\local-packages\\Python311\\site-packages\\bertopic\\_bertopic.py:3741\u001b[0m, in \u001b[0;36mBERTopic._reduce_dimensionality\u001b[1;34m(self, embeddings, y, partial_fit)\u001b[0m\n\u001b[0;32m   3738\u001b[0m \u001b[38;5;28;01mtry\u001b[39;00m:\n\u001b[0;32m   3739\u001b[0m     \u001b[38;5;66;03m# cuml umap needs y to be an numpy array\u001b[39;00m\n\u001b[0;32m   3740\u001b[0m     y \u001b[38;5;241m=\u001b[39m np\u001b[38;5;241m.\u001b[39marray(y) \u001b[38;5;28;01mif\u001b[39;00m y \u001b[38;5;129;01mis\u001b[39;00m \u001b[38;5;129;01mnot\u001b[39;00m \u001b[38;5;28;01mNone\u001b[39;00m \u001b[38;5;28;01melse\u001b[39;00m \u001b[38;5;28;01mNone\u001b[39;00m\n\u001b[1;32m-> 3741\u001b[0m     \u001b[38;5;28;43mself\u001b[39;49m\u001b[38;5;241;43m.\u001b[39;49m\u001b[43mumap_model\u001b[49m\u001b[38;5;241;43m.\u001b[39;49m\u001b[43mfit\u001b[49m\u001b[43m(\u001b[49m\u001b[43membeddings\u001b[49m\u001b[43m,\u001b[49m\u001b[43m \u001b[49m\u001b[43my\u001b[49m\u001b[38;5;241;43m=\u001b[39;49m\u001b[43my\u001b[49m\u001b[43m)\u001b[49m\n\u001b[0;32m   3742\u001b[0m \u001b[38;5;28;01mexcept\u001b[39;00m \u001b[38;5;167;01mTypeError\u001b[39;00m:\n\u001b[0;32m   3743\u001b[0m     \u001b[38;5;28mself\u001b[39m\u001b[38;5;241m.\u001b[39mumap_model\u001b[38;5;241m.\u001b[39mfit(embeddings)\n",
            "File \u001b[1;32m~\\AppData\\Local\\Packages\\PythonSoftwareFoundation.Python.3.11_qbz5n2kfra8p0\\LocalCache\\local-packages\\Python311\\site-packages\\umap\\umap_.py:2383\u001b[0m, in \u001b[0;36mUMAP.fit\u001b[1;34m(self, X, y, force_all_finite)\u001b[0m\n\u001b[0;32m   2380\u001b[0m \u001b[38;5;28;01melse\u001b[39;00m:\n\u001b[0;32m   2381\u001b[0m     \u001b[38;5;28mself\u001b[39m\u001b[38;5;241m.\u001b[39mknn_search_index \u001b[38;5;241m=\u001b[39m \u001b[38;5;28mself\u001b[39m\u001b[38;5;241m.\u001b[39mprecomputed_knn[\u001b[38;5;241m2\u001b[39m]\n\u001b[1;32m-> 2383\u001b[0m \u001b[38;5;28;43mself\u001b[39;49m\u001b[38;5;241;43m.\u001b[39;49m\u001b[43m_validate_parameters\u001b[49m\u001b[43m(\u001b[49m\u001b[43m)\u001b[49m\n\u001b[0;32m   2385\u001b[0m \u001b[38;5;28;01mif\u001b[39;00m \u001b[38;5;28mself\u001b[39m\u001b[38;5;241m.\u001b[39mverbose:\n\u001b[0;32m   2386\u001b[0m     \u001b[38;5;28mprint\u001b[39m(\u001b[38;5;28mstr\u001b[39m(\u001b[38;5;28mself\u001b[39m))\n",
            "File \u001b[1;32m~\\AppData\\Local\\Packages\\PythonSoftwareFoundation.Python.3.11_qbz5n2kfra8p0\\LocalCache\\local-packages\\Python311\\site-packages\\umap\\umap_.py:1751\u001b[0m, in \u001b[0;36mUMAP._validate_parameters\u001b[1;34m(self)\u001b[0m\n\u001b[0;32m   1749\u001b[0m     \u001b[38;5;28;01mraise\u001b[39;00m \u001b[38;5;167;01mValueError\u001b[39;00m(\u001b[38;5;124m\"\u001b[39m\u001b[38;5;124mrepulsion_strength cannot be negative\u001b[39m\u001b[38;5;124m\"\u001b[39m)\n\u001b[0;32m   1750\u001b[0m \u001b[38;5;28;01mif\u001b[39;00m \u001b[38;5;28mself\u001b[39m\u001b[38;5;241m.\u001b[39mmin_dist \u001b[38;5;241m>\u001b[39m \u001b[38;5;28mself\u001b[39m\u001b[38;5;241m.\u001b[39mspread:\n\u001b[1;32m-> 1751\u001b[0m     \u001b[38;5;28;01mraise\u001b[39;00m \u001b[38;5;167;01mValueError\u001b[39;00m(\u001b[38;5;124m\"\u001b[39m\u001b[38;5;124mmin_dist must be less than or equal to spread\u001b[39m\u001b[38;5;124m\"\u001b[39m)\n\u001b[0;32m   1752\u001b[0m \u001b[38;5;28;01mif\u001b[39;00m \u001b[38;5;28mself\u001b[39m\u001b[38;5;241m.\u001b[39mmin_dist \u001b[38;5;241m<\u001b[39m \u001b[38;5;241m0.0\u001b[39m:\n\u001b[0;32m   1753\u001b[0m     \u001b[38;5;28;01mraise\u001b[39;00m \u001b[38;5;167;01mValueError\u001b[39;00m(\u001b[38;5;124m\"\u001b[39m\u001b[38;5;124mmin_dist cannot be negative\u001b[39m\u001b[38;5;124m\"\u001b[39m)\n",
            "\u001b[1;31mValueError\u001b[0m: min_dist must be less than or equal to spread"
          ]
        }
      ],
      "source": [
        "topics, probs = model.fit_transform(topic_model_df[\"headlines\"])"
      ]
    },
    {
      "cell_type": "code",
      "execution_count": 101,
      "id": "c111e178",
      "metadata": {},
      "outputs": [
        {
          "data": {
            "text/html": [
              "<div>\n",
              "<style scoped>\n",
              "    .dataframe tbody tr th:only-of-type {\n",
              "        vertical-align: middle;\n",
              "    }\n",
              "\n",
              "    .dataframe tbody tr th {\n",
              "        vertical-align: top;\n",
              "    }\n",
              "\n",
              "    .dataframe thead th {\n",
              "        text-align: right;\n",
              "    }\n",
              "</style>\n",
              "<table border=\"1\" class=\"dataframe\">\n",
              "  <thead>\n",
              "    <tr style=\"text-align: right;\">\n",
              "      <th></th>\n",
              "      <th>Document</th>\n",
              "      <th>Topic</th>\n",
              "      <th>Name</th>\n",
              "      <th>Representation</th>\n",
              "      <th>Representative_Docs</th>\n",
              "      <th>Top_n_words</th>\n",
              "      <th>Probability</th>\n",
              "      <th>Representative_document</th>\n",
              "    </tr>\n",
              "  </thead>\n",
              "  <tbody>\n",
              "    <tr>\n",
              "      <th>0</th>\n",
              "      <td>nirmala sitharaman to equal morarji desai’s re...</td>\n",
              "      <td>-1</td>\n",
              "      <td>-1_india_2023_rs_khan</td>\n",
              "      <td>[india, 2023, rs, khan, says, new, 2024, watch...</td>\n",
              "      <td>[dunki box office collection day 2 early repor...</td>\n",
              "      <td>india - 2023 - rs - khan - says - new - 2024 -...</td>\n",
              "      <td>0.000000</td>\n",
              "      <td>False</td>\n",
              "    </tr>\n",
              "    <tr>\n",
              "      <th>1</th>\n",
              "      <td>‘will densify network want to be at least no 2...</td>\n",
              "      <td>-1</td>\n",
              "      <td>-1_india_2023_rs_khan</td>\n",
              "      <td>[india, 2023, rs, khan, says, new, 2024, watch...</td>\n",
              "      <td>[dunki box office collection day 2 early repor...</td>\n",
              "      <td>india - 2023 - rs - khan - says - new - 2024 -...</td>\n",
              "      <td>0.000000</td>\n",
              "      <td>False</td>\n",
              "    </tr>\n",
              "    <tr>\n",
              "      <th>2</th>\n",
              "      <td>air india group to induct an aircraft every si...</td>\n",
              "      <td>-1</td>\n",
              "      <td>-1_india_2023_rs_khan</td>\n",
              "      <td>[india, 2023, rs, khan, says, new, 2024, watch...</td>\n",
              "      <td>[dunki box office collection day 2 early repor...</td>\n",
              "      <td>india - 2023 - rs - khan - says - new - 2024 -...</td>\n",
              "      <td>0.000000</td>\n",
              "      <td>False</td>\n",
              "    </tr>\n",
              "    <tr>\n",
              "      <th>3</th>\n",
              "      <td>red sea woes exporters seek increased credit a...</td>\n",
              "      <td>-1</td>\n",
              "      <td>-1_india_2023_rs_khan</td>\n",
              "      <td>[india, 2023, rs, khan, says, new, 2024, watch...</td>\n",
              "      <td>[dunki box office collection day 2 early repor...</td>\n",
              "      <td>india - 2023 - rs - khan - says - new - 2024 -...</td>\n",
              "      <td>0.000000</td>\n",
              "      <td>False</td>\n",
              "    </tr>\n",
              "    <tr>\n",
              "      <th>4</th>\n",
              "      <td>air india group to induct a plane every 6 days...</td>\n",
              "      <td>-1</td>\n",
              "      <td>-1_india_2023_rs_khan</td>\n",
              "      <td>[india, 2023, rs, khan, says, new, 2024, watch...</td>\n",
              "      <td>[dunki box office collection day 2 early repor...</td>\n",
              "      <td>india - 2023 - rs - khan - says - new - 2024 -...</td>\n",
              "      <td>0.000000</td>\n",
              "      <td>False</td>\n",
              "    </tr>\n",
              "    <tr>\n",
              "      <th>5</th>\n",
              "      <td>q3 earnings results jsw steel pnb acc report m...</td>\n",
              "      <td>-1</td>\n",
              "      <td>-1_india_2023_rs_khan</td>\n",
              "      <td>[india, 2023, rs, khan, says, new, 2024, watch...</td>\n",
              "      <td>[dunki box office collection day 2 early repor...</td>\n",
              "      <td>india - 2023 - rs - khan - says - new - 2024 -...</td>\n",
              "      <td>0.000000</td>\n",
              "      <td>False</td>\n",
              "    </tr>\n",
              "    <tr>\n",
              "      <th>6</th>\n",
              "      <td>blackstone’s fourthquarter earnings rise 4 as ...</td>\n",
              "      <td>3</td>\n",
              "      <td>3_india_rbi_profit_high</td>\n",
              "      <td>[india, rbi, profit, high, inflation, demand, ...</td>\n",
              "      <td>[india to clock 65 gdp growth in fy24 despite ...</td>\n",
              "      <td>india - rbi - profit - high - inflation - dema...</td>\n",
              "      <td>0.969884</td>\n",
              "      <td>False</td>\n",
              "    </tr>\n",
              "    <tr>\n",
              "      <th>7</th>\n",
              "      <td>zomato gets rbi’s approval to operate as onlin...</td>\n",
              "      <td>-1</td>\n",
              "      <td>-1_india_2023_rs_khan</td>\n",
              "      <td>[india, 2023, rs, khan, says, new, 2024, watch...</td>\n",
              "      <td>[dunki box office collection day 2 early repor...</td>\n",
              "      <td>india - 2023 - rs - khan - says - new - 2024 -...</td>\n",
              "      <td>0.000000</td>\n",
              "      <td>False</td>\n",
              "    </tr>\n",
              "    <tr>\n",
              "      <th>8</th>\n",
              "      <td>indiauk fta final push for deal as window clos...</td>\n",
              "      <td>-1</td>\n",
              "      <td>-1_india_2023_rs_khan</td>\n",
              "      <td>[india, 2023, rs, khan, says, new, 2024, watch...</td>\n",
              "      <td>[dunki box office collection day 2 early repor...</td>\n",
              "      <td>india - 2023 - rs - khan - says - new - 2024 -...</td>\n",
              "      <td>0.000000</td>\n",
              "      <td>False</td>\n",
              "    </tr>\n",
              "    <tr>\n",
              "      <th>9</th>\n",
              "      <td>govt close to saturation in implementing socia...</td>\n",
              "      <td>-1</td>\n",
              "      <td>-1_india_2023_rs_khan</td>\n",
              "      <td>[india, 2023, rs, khan, says, new, 2024, watch...</td>\n",
              "      <td>[dunki box office collection day 2 early repor...</td>\n",
              "      <td>india - 2023 - rs - khan - says - new - 2024 -...</td>\n",
              "      <td>0.000000</td>\n",
              "      <td>False</td>\n",
              "    </tr>\n",
              "  </tbody>\n",
              "</table>\n",
              "</div>"
            ],
            "text/plain": [
              "                                            Document  Topic  \\\n",
              "0  nirmala sitharaman to equal morarji desai’s re...     -1   \n",
              "1  ‘will densify network want to be at least no 2...     -1   \n",
              "2  air india group to induct an aircraft every si...     -1   \n",
              "3  red sea woes exporters seek increased credit a...     -1   \n",
              "4  air india group to induct a plane every 6 days...     -1   \n",
              "5  q3 earnings results jsw steel pnb acc report m...     -1   \n",
              "6  blackstone’s fourthquarter earnings rise 4 as ...      3   \n",
              "7  zomato gets rbi’s approval to operate as onlin...     -1   \n",
              "8  indiauk fta final push for deal as window clos...     -1   \n",
              "9  govt close to saturation in implementing socia...     -1   \n",
              "\n",
              "                      Name                                     Representation  \\\n",
              "0    -1_india_2023_rs_khan  [india, 2023, rs, khan, says, new, 2024, watch...   \n",
              "1    -1_india_2023_rs_khan  [india, 2023, rs, khan, says, new, 2024, watch...   \n",
              "2    -1_india_2023_rs_khan  [india, 2023, rs, khan, says, new, 2024, watch...   \n",
              "3    -1_india_2023_rs_khan  [india, 2023, rs, khan, says, new, 2024, watch...   \n",
              "4    -1_india_2023_rs_khan  [india, 2023, rs, khan, says, new, 2024, watch...   \n",
              "5    -1_india_2023_rs_khan  [india, 2023, rs, khan, says, new, 2024, watch...   \n",
              "6  3_india_rbi_profit_high  [india, rbi, profit, high, inflation, demand, ...   \n",
              "7    -1_india_2023_rs_khan  [india, 2023, rs, khan, says, new, 2024, watch...   \n",
              "8    -1_india_2023_rs_khan  [india, 2023, rs, khan, says, new, 2024, watch...   \n",
              "9    -1_india_2023_rs_khan  [india, 2023, rs, khan, says, new, 2024, watch...   \n",
              "\n",
              "                                 Representative_Docs  \\\n",
              "0  [dunki box office collection day 2 early repor...   \n",
              "1  [dunki box office collection day 2 early repor...   \n",
              "2  [dunki box office collection day 2 early repor...   \n",
              "3  [dunki box office collection day 2 early repor...   \n",
              "4  [dunki box office collection day 2 early repor...   \n",
              "5  [dunki box office collection day 2 early repor...   \n",
              "6  [india to clock 65 gdp growth in fy24 despite ...   \n",
              "7  [dunki box office collection day 2 early repor...   \n",
              "8  [dunki box office collection day 2 early repor...   \n",
              "9  [dunki box office collection day 2 early repor...   \n",
              "\n",
              "                                         Top_n_words  Probability  \\\n",
              "0  india - 2023 - rs - khan - says - new - 2024 -...     0.000000   \n",
              "1  india - 2023 - rs - khan - says - new - 2024 -...     0.000000   \n",
              "2  india - 2023 - rs - khan - says - new - 2024 -...     0.000000   \n",
              "3  india - 2023 - rs - khan - says - new - 2024 -...     0.000000   \n",
              "4  india - 2023 - rs - khan - says - new - 2024 -...     0.000000   \n",
              "5  india - 2023 - rs - khan - says - new - 2024 -...     0.000000   \n",
              "6  india - rbi - profit - high - inflation - dema...     0.969884   \n",
              "7  india - 2023 - rs - khan - says - new - 2024 -...     0.000000   \n",
              "8  india - 2023 - rs - khan - says - new - 2024 -...     0.000000   \n",
              "9  india - 2023 - rs - khan - says - new - 2024 -...     0.000000   \n",
              "\n",
              "   Representative_document  \n",
              "0                    False  \n",
              "1                    False  \n",
              "2                    False  \n",
              "3                    False  \n",
              "4                    False  \n",
              "5                    False  \n",
              "6                    False  \n",
              "7                    False  \n",
              "8                    False  \n",
              "9                    False  "
            ]
          },
          "execution_count": 101,
          "metadata": {},
          "output_type": "execute_result"
        }
      ],
      "source": [
        "model.get_document_info(topic_model_df[\"headlines\"]).head(10)"
      ]
    },
    {
      "cell_type": "code",
      "execution_count": 102,
      "id": "c303a33b",
      "metadata": {},
      "outputs": [
        {
          "data": {
            "text/html": [
              "<div>\n",
              "<style scoped>\n",
              "    .dataframe tbody tr th:only-of-type {\n",
              "        vertical-align: middle;\n",
              "    }\n",
              "\n",
              "    .dataframe tbody tr th {\n",
              "        vertical-align: top;\n",
              "    }\n",
              "\n",
              "    .dataframe thead th {\n",
              "        text-align: right;\n",
              "    }\n",
              "</style>\n",
              "<table border=\"1\" class=\"dataframe\">\n",
              "  <thead>\n",
              "    <tr style=\"text-align: right;\">\n",
              "      <th></th>\n",
              "      <th>Topic</th>\n",
              "      <th>Count</th>\n",
              "      <th>Name</th>\n",
              "      <th>Representation</th>\n",
              "      <th>Representative_Docs</th>\n",
              "    </tr>\n",
              "  </thead>\n",
              "  <tbody>\n",
              "    <tr>\n",
              "      <th>0</th>\n",
              "      <td>-1</td>\n",
              "      <td>7762</td>\n",
              "      <td>-1_india_2023_rs_khan</td>\n",
              "      <td>[india, 2023, rs, khan, says, new, 2024, watch...</td>\n",
              "      <td>[dunki box office collection day 2 early repor...</td>\n",
              "    </tr>\n",
              "    <tr>\n",
              "      <th>1</th>\n",
              "      <td>0</td>\n",
              "      <td>1198</td>\n",
              "      <td>0_says_kapoor_watch_reveals</td>\n",
              "      <td>[says, kapoor, watch, reveals, vs, khan, india...</td>\n",
              "      <td>[ranbir kapoor says he uses wife alia bhatt’s ...</td>\n",
              "    </tr>\n",
              "    <tr>\n",
              "      <th>2</th>\n",
              "      <td>1</td>\n",
              "      <td>413</td>\n",
              "      <td>1_technology___</td>\n",
              "      <td>[technology, , , , , , , , , ]</td>\n",
              "      <td>[tech news today google pixel 7 available for ...</td>\n",
              "    </tr>\n",
              "    <tr>\n",
              "      <th>3</th>\n",
              "      <td>2</td>\n",
              "      <td>352</td>\n",
              "      <td>2_2023_2024_registration_check</td>\n",
              "      <td>[2023, 2024, registration, check, neet, jee, e...</td>\n",
              "      <td>[neet pg 2023 counselling registrations for ro...</td>\n",
              "    </tr>\n",
              "    <tr>\n",
              "      <th>4</th>\n",
              "      <td>3</td>\n",
              "      <td>275</td>\n",
              "      <td>3_india_rbi_profit_high</td>\n",
              "      <td>[india, rbi, profit, high, inflation, demand, ...</td>\n",
              "      <td>[india to clock 65 gdp growth in fy24 despite ...</td>\n",
              "    </tr>\n",
              "  </tbody>\n",
              "</table>\n",
              "</div>"
            ],
            "text/plain": [
              "   Topic  Count                            Name  \\\n",
              "0     -1   7762           -1_india_2023_rs_khan   \n",
              "1      0   1198     0_says_kapoor_watch_reveals   \n",
              "2      1    413                 1_technology___   \n",
              "3      2    352  2_2023_2024_registration_check   \n",
              "4      3    275         3_india_rbi_profit_high   \n",
              "\n",
              "                                      Representation  \\\n",
              "0  [india, 2023, rs, khan, says, new, 2024, watch...   \n",
              "1  [says, kapoor, watch, reveals, vs, khan, india...   \n",
              "2                     [technology, , , , , , , , , ]   \n",
              "3  [2023, 2024, registration, check, neet, jee, e...   \n",
              "4  [india, rbi, profit, high, inflation, demand, ...   \n",
              "\n",
              "                                 Representative_Docs  \n",
              "0  [dunki box office collection day 2 early repor...  \n",
              "1  [ranbir kapoor says he uses wife alia bhatt’s ...  \n",
              "2  [tech news today google pixel 7 available for ...  \n",
              "3  [neet pg 2023 counselling registrations for ro...  \n",
              "4  [india to clock 65 gdp growth in fy24 despite ...  "
            ]
          },
          "execution_count": 102,
          "metadata": {},
          "output_type": "execute_result"
        }
      ],
      "source": [
        "model.get_topic_info()"
      ]
    },
    {
      "cell_type": "code",
      "execution_count": 79,
      "id": "1e93a6cf",
      "metadata": {},
      "outputs": [
        {
          "data": {
            "text/html": [
              "<div>\n",
              "<style scoped>\n",
              "    .dataframe tbody tr th:only-of-type {\n",
              "        vertical-align: middle;\n",
              "    }\n",
              "\n",
              "    .dataframe tbody tr th {\n",
              "        vertical-align: top;\n",
              "    }\n",
              "\n",
              "    .dataframe thead th {\n",
              "        text-align: right;\n",
              "    }\n",
              "</style>\n",
              "<table border=\"1\" class=\"dataframe\">\n",
              "  <thead>\n",
              "    <tr style=\"text-align: right;\">\n",
              "      <th></th>\n",
              "      <th>Topic</th>\n",
              "      <th>Count</th>\n",
              "      <th>Name</th>\n",
              "      <th>Representation</th>\n",
              "      <th>Representative_Docs</th>\n",
              "    </tr>\n",
              "  </thead>\n",
              "  <tbody>\n",
              "    <tr>\n",
              "      <th>0</th>\n",
              "      <td>0</td>\n",
              "      <td>2632</td>\n",
              "      <td>0_says_vs_khan_watch</td>\n",
              "      <td>[says, vs, khan, watch, kapoor, india, test, r...</td>\n",
              "      <td>[ind vs aus has david warner played his last t...</td>\n",
              "    </tr>\n",
              "  </tbody>\n",
              "</table>\n",
              "</div>"
            ],
            "text/plain": [
              "   Topic  Count                  Name  \\\n",
              "0      0   2632  0_says_vs_khan_watch   \n",
              "\n",
              "                                      Representation  \\\n",
              "0  [says, vs, khan, watch, kapoor, india, test, r...   \n",
              "\n",
              "                                 Representative_Docs  \n",
              "0  [ind vs aus has david warner played his last t...  "
            ]
          },
          "execution_count": 79,
          "metadata": {},
          "output_type": "execute_result"
        }
      ],
      "source": [
        "model.get_topic_info(0)"
      ]
    },
    {
      "cell_type": "code",
      "execution_count": 44,
      "id": "5f934143",
      "metadata": {},
      "outputs": [
        {
          "name": "stderr",
          "output_type": "stream",
          "text": [
            "100%|██████████| 6/6 [00:02<00:00,  2.28it/s]\n"
          ]
        }
      ],
      "source": [
        "model.merge_topics(topic_model_df[\"headlines\"], topics_to_merge=[[4, 5], [3, 6]])\n",
        "\n"
      ]
    },
    {
      "cell_type": "code",
      "execution_count": 45,
      "id": "24175e7e",
      "metadata": {},
      "outputs": [
        {
          "data": {
            "text/html": [
              "<div>\n",
              "<style scoped>\n",
              "    .dataframe tbody tr th:only-of-type {\n",
              "        vertical-align: middle;\n",
              "    }\n",
              "\n",
              "    .dataframe tbody tr th {\n",
              "        vertical-align: top;\n",
              "    }\n",
              "\n",
              "    .dataframe thead th {\n",
              "        text-align: right;\n",
              "    }\n",
              "</style>\n",
              "<table border=\"1\" class=\"dataframe\">\n",
              "  <thead>\n",
              "    <tr style=\"text-align: right;\">\n",
              "      <th></th>\n",
              "      <th>Topic</th>\n",
              "      <th>Count</th>\n",
              "      <th>Name</th>\n",
              "      <th>CustomName</th>\n",
              "      <th>Representation</th>\n",
              "      <th>Representative_Docs</th>\n",
              "    </tr>\n",
              "  </thead>\n",
              "  <tbody>\n",
              "    <tr>\n",
              "      <th>0</th>\n",
              "      <td>-1</td>\n",
              "      <td>220</td>\n",
              "      <td>-1_Rupee falls against US dollar trend in Indi...</td>\n",
              "      <td>-1_Rupee falls against US dollar in trading fl...</td>\n",
              "      <td>[Rupee falls against US dollar trend in India ...</td>\n",
              "      <td>[rupee falls 4 paise to 8332 against us dollar...</td>\n",
              "    </tr>\n",
              "    <tr>\n",
              "      <th>1</th>\n",
              "      <td>0</td>\n",
              "      <td>2084</td>\n",
              "      <td>0_Box office collections of Shah Rukh Khan's f...</td>\n",
              "      <td>Entertainment</td>\n",
              "      <td>[Box office collections of Shah Rukh Khan's fi...</td>\n",
              "      <td>[sam bahadur box office collection day 20 vick...</td>\n",
              "    </tr>\n",
              "    <tr>\n",
              "      <th>2</th>\n",
              "      <td>1</td>\n",
              "      <td>2005</td>\n",
              "      <td>1_neet ug 2023 counselling updates</td>\n",
              "      <td>Education</td>\n",
              "      <td>[neet ug 2023 counselling updates]</td>\n",
              "      <td>[tamil nadu neet ug counselling 2023 registrat...</td>\n",
              "    </tr>\n",
              "    <tr>\n",
              "      <th>3</th>\n",
              "      <td>2</td>\n",
              "      <td>1970</td>\n",
              "      <td>2_India's Performance in Various Cricket Match...</td>\n",
              "      <td>Technology</td>\n",
              "      <td>[India's Performance in Various Cricket Matche...</td>\n",
              "      <td>[watch england awarded five penalty runs in wo...</td>\n",
              "    </tr>\n",
              "    <tr>\n",
              "      <th>4</th>\n",
              "      <td>3</td>\n",
              "      <td>1904</td>\n",
              "      <td>3_tech news today - new launches and updates f...</td>\n",
              "      <td>Business</td>\n",
              "      <td>[tech news today - new launches and updates fr...</td>\n",
              "      <td>[tech news today apple vision pro glass costs ...</td>\n",
              "    </tr>\n",
              "    <tr>\n",
              "      <th>5</th>\n",
              "      <td>4</td>\n",
              "      <td>1817</td>\n",
              "      <td>4_Quarterly Earnings Growth in Indian Banks an...</td>\n",
              "      <td>Sports</td>\n",
              "      <td>[Quarterly Earnings Growth in Indian Banks and...</td>\n",
              "      <td>[indusind bank q2 profit jumps 22 to rs 2202 c...</td>\n",
              "    </tr>\n",
              "  </tbody>\n",
              "</table>\n",
              "</div>"
            ],
            "text/plain": [
              "   Topic  Count                                               Name  \\\n",
              "0     -1    220  -1_Rupee falls against US dollar trend in Indi...   \n",
              "1      0   2084  0_Box office collections of Shah Rukh Khan's f...   \n",
              "2      1   2005                 1_neet ug 2023 counselling updates   \n",
              "3      2   1970  2_India's Performance in Various Cricket Match...   \n",
              "4      3   1904  3_tech news today - new launches and updates f...   \n",
              "5      4   1817  4_Quarterly Earnings Growth in Indian Banks an...   \n",
              "\n",
              "                                          CustomName  \\\n",
              "0  -1_Rupee falls against US dollar in trading fl...   \n",
              "1                                      Entertainment   \n",
              "2                                          Education   \n",
              "3                                         Technology   \n",
              "4                                           Business   \n",
              "5                                             Sports   \n",
              "\n",
              "                                      Representation  \\\n",
              "0  [Rupee falls against US dollar trend in India ...   \n",
              "1  [Box office collections of Shah Rukh Khan's fi...   \n",
              "2                 [neet ug 2023 counselling updates]   \n",
              "3  [India's Performance in Various Cricket Matche...   \n",
              "4  [tech news today - new launches and updates fr...   \n",
              "5  [Quarterly Earnings Growth in Indian Banks and...   \n",
              "\n",
              "                                 Representative_Docs  \n",
              "0  [rupee falls 4 paise to 8332 against us dollar...  \n",
              "1  [sam bahadur box office collection day 20 vick...  \n",
              "2  [tamil nadu neet ug counselling 2023 registrat...  \n",
              "3  [watch england awarded five penalty runs in wo...  \n",
              "4  [tech news today apple vision pro glass costs ...  \n",
              "5  [indusind bank q2 profit jumps 22 to rs 2202 c...  "
            ]
          },
          "execution_count": 45,
          "metadata": {},
          "output_type": "execute_result"
        }
      ],
      "source": [
        "model.get_topic_info()"
      ]
    },
    {
      "cell_type": "code",
      "execution_count": 46,
      "id": "9d09ad5c",
      "metadata": {},
      "outputs": [],
      "source": [
        "topic_labels = {0: \"Entertainment\", 1: \"Education\", 2: \"Sports\", 3: \"Technology\", 4: \"Business\"}\n",
        "model.set_topic_labels(topic_labels)"
      ]
    },
    {
      "cell_type": "code",
      "execution_count": 47,
      "id": "7cdc81f3",
      "metadata": {},
      "outputs": [
        {
          "data": {
            "text/html": [
              "<div>\n",
              "<style scoped>\n",
              "    .dataframe tbody tr th:only-of-type {\n",
              "        vertical-align: middle;\n",
              "    }\n",
              "\n",
              "    .dataframe tbody tr th {\n",
              "        vertical-align: top;\n",
              "    }\n",
              "\n",
              "    .dataframe thead th {\n",
              "        text-align: right;\n",
              "    }\n",
              "</style>\n",
              "<table border=\"1\" class=\"dataframe\">\n",
              "  <thead>\n",
              "    <tr style=\"text-align: right;\">\n",
              "      <th></th>\n",
              "      <th>Topic</th>\n",
              "      <th>Count</th>\n",
              "      <th>Name</th>\n",
              "      <th>CustomName</th>\n",
              "      <th>Representation</th>\n",
              "      <th>Representative_Docs</th>\n",
              "    </tr>\n",
              "  </thead>\n",
              "  <tbody>\n",
              "    <tr>\n",
              "      <th>0</th>\n",
              "      <td>-1</td>\n",
              "      <td>220</td>\n",
              "      <td>-1_Rupee falls against US dollar trend in Indi...</td>\n",
              "      <td>-1_Rupee falls against US dollar in trading fl...</td>\n",
              "      <td>[Rupee falls against US dollar trend in India ...</td>\n",
              "      <td>[rupee falls 4 paise to 8332 against us dollar...</td>\n",
              "    </tr>\n",
              "    <tr>\n",
              "      <th>1</th>\n",
              "      <td>0</td>\n",
              "      <td>2084</td>\n",
              "      <td>0_Box office collections of Shah Rukh Khan's f...</td>\n",
              "      <td>Entertainment</td>\n",
              "      <td>[Box office collections of Shah Rukh Khan's fi...</td>\n",
              "      <td>[sam bahadur box office collection day 20 vick...</td>\n",
              "    </tr>\n",
              "    <tr>\n",
              "      <th>2</th>\n",
              "      <td>1</td>\n",
              "      <td>2005</td>\n",
              "      <td>1_neet ug 2023 counselling updates</td>\n",
              "      <td>Education</td>\n",
              "      <td>[neet ug 2023 counselling updates]</td>\n",
              "      <td>[tamil nadu neet ug counselling 2023 registrat...</td>\n",
              "    </tr>\n",
              "    <tr>\n",
              "      <th>3</th>\n",
              "      <td>2</td>\n",
              "      <td>1970</td>\n",
              "      <td>2_India's Performance in Various Cricket Match...</td>\n",
              "      <td>Sports</td>\n",
              "      <td>[India's Performance in Various Cricket Matche...</td>\n",
              "      <td>[watch england awarded five penalty runs in wo...</td>\n",
              "    </tr>\n",
              "    <tr>\n",
              "      <th>4</th>\n",
              "      <td>3</td>\n",
              "      <td>1904</td>\n",
              "      <td>3_tech news today - new launches and updates f...</td>\n",
              "      <td>Technology</td>\n",
              "      <td>[tech news today - new launches and updates fr...</td>\n",
              "      <td>[tech news today apple vision pro glass costs ...</td>\n",
              "    </tr>\n",
              "    <tr>\n",
              "      <th>5</th>\n",
              "      <td>4</td>\n",
              "      <td>1817</td>\n",
              "      <td>4_Quarterly Earnings Growth in Indian Banks an...</td>\n",
              "      <td>Business</td>\n",
              "      <td>[Quarterly Earnings Growth in Indian Banks and...</td>\n",
              "      <td>[indusind bank q2 profit jumps 22 to rs 2202 c...</td>\n",
              "    </tr>\n",
              "  </tbody>\n",
              "</table>\n",
              "</div>"
            ],
            "text/plain": [
              "   Topic  Count                                               Name  \\\n",
              "0     -1    220  -1_Rupee falls against US dollar trend in Indi...   \n",
              "1      0   2084  0_Box office collections of Shah Rukh Khan's f...   \n",
              "2      1   2005                 1_neet ug 2023 counselling updates   \n",
              "3      2   1970  2_India's Performance in Various Cricket Match...   \n",
              "4      3   1904  3_tech news today - new launches and updates f...   \n",
              "5      4   1817  4_Quarterly Earnings Growth in Indian Banks an...   \n",
              "\n",
              "                                          CustomName  \\\n",
              "0  -1_Rupee falls against US dollar in trading fl...   \n",
              "1                                      Entertainment   \n",
              "2                                          Education   \n",
              "3                                             Sports   \n",
              "4                                         Technology   \n",
              "5                                           Business   \n",
              "\n",
              "                                      Representation  \\\n",
              "0  [Rupee falls against US dollar trend in India ...   \n",
              "1  [Box office collections of Shah Rukh Khan's fi...   \n",
              "2                 [neet ug 2023 counselling updates]   \n",
              "3  [India's Performance in Various Cricket Matche...   \n",
              "4  [tech news today - new launches and updates fr...   \n",
              "5  [Quarterly Earnings Growth in Indian Banks and...   \n",
              "\n",
              "                                 Representative_Docs  \n",
              "0  [rupee falls 4 paise to 8332 against us dollar...  \n",
              "1  [sam bahadur box office collection day 20 vick...  \n",
              "2  [tamil nadu neet ug counselling 2023 registrat...  \n",
              "3  [watch england awarded five penalty runs in wo...  \n",
              "4  [tech news today apple vision pro glass costs ...  \n",
              "5  [indusind bank q2 profit jumps 22 to rs 2202 c...  "
            ]
          },
          "execution_count": 47,
          "metadata": {},
          "output_type": "execute_result"
        }
      ],
      "source": [
        "model.get_topic_info()"
      ]
    },
    {
      "cell_type": "code",
      "execution_count": 48,
      "id": "03412351",
      "metadata": {},
      "outputs": [
        {
          "data": {
            "application/vnd.plotly.v1+json": {
              "config": {
                "plotlyServerURL": "https://plot.ly"
              },
              "data": [
                {
                  "customdata": [
                    [
                      0,
                      "Box office collections of Shah Rukh Khan's films and other Bollywood actors",
                      2084
                    ],
                    [
                      1,
                      "neet ug 2023 counselling updates",
                      2005
                    ],
                    [
                      2,
                      "India's Performance in Various Cricket Matches and Tournaments",
                      1970
                    ],
                    [
                      3,
                      "tech news today - new launches and updates from Apple, Google, Samsung, and more",
                      1904
                    ],
                    [
                      4,
                      "Quarterly Earnings Growth in Indian Banks and Companies",
                      1817
                    ]
                  ],
                  "hovertemplate": "<b>Topic %{customdata[0]}</b><br>%{customdata[1]}<br>Size: %{customdata[2]}",
                  "legendgroup": "",
                  "marker": {
                    "color": "#B0BEC5",
                    "line": {
                      "color": "DarkSlateGrey",
                      "width": 2
                    },
                    "size": [
                      2084,
                      2005,
                      1970,
                      1904,
                      1817
                    ],
                    "sizemode": "area",
                    "sizeref": 1.3025,
                    "symbol": "circle"
                  },
                  "mode": "markers",
                  "name": "",
                  "orientation": "v",
                  "showlegend": false,
                  "type": "scatter",
                  "x": [
                    -0.19763928651809692,
                    0.43278035521507263,
                    0.17595547437667847,
                    1.2890548706054688,
                    0.8512950539588928
                  ],
                  "xaxis": "x",
                  "y": [
                    19.908540725708008,
                    4.821010112762451,
                    19.53506088256836,
                    3.9547433853149414,
                    4.318353176116943
                  ],
                  "yaxis": "y"
                }
              ],
              "layout": {
                "annotations": [
                  {
                    "showarrow": false,
                    "text": "D1",
                    "x": -0.22728517949581145,
                    "y": 13.128176856040954,
                    "yshift": 10
                  },
                  {
                    "showarrow": false,
                    "text": "D2",
                    "x": 0.6275639608502388,
                    "xshift": 10,
                    "y": 22.89482183456421
                  }
                ],
                "height": 650,
                "hoverlabel": {
                  "bgcolor": "white",
                  "font": {
                    "family": "Rockwell",
                    "size": 16
                  }
                },
                "legend": {
                  "itemsizing": "constant",
                  "tracegroupgap": 0
                },
                "margin": {
                  "t": 60
                },
                "shapes": [
                  {
                    "line": {
                      "color": "#CFD8DC",
                      "width": 2
                    },
                    "type": "line",
                    "x0": 0.6275639608502388,
                    "x1": 0.6275639608502388,
                    "y0": 3.3615318775177,
                    "y1": 22.89482183456421
                  },
                  {
                    "line": {
                      "color": "#9E9E9E",
                      "width": 2
                    },
                    "type": "line",
                    "x0": -0.22728517949581145,
                    "x1": 1.482413101196289,
                    "y0": 13.128176856040954,
                    "y1": 13.128176856040954
                  }
                ],
                "sliders": [
                  {
                    "active": 0,
                    "pad": {
                      "t": 50
                    },
                    "steps": [
                      {
                        "args": [
                          {
                            "marker.color": [
                              [
                                "red",
                                "#B0BEC5",
                                "#B0BEC5",
                                "#B0BEC5",
                                "#B0BEC5"
                              ]
                            ]
                          }
                        ],
                        "label": "Topic 0",
                        "method": "update"
                      },
                      {
                        "args": [
                          {
                            "marker.color": [
                              [
                                "#B0BEC5",
                                "red",
                                "#B0BEC5",
                                "#B0BEC5",
                                "#B0BEC5"
                              ]
                            ]
                          }
                        ],
                        "label": "Topic 1",
                        "method": "update"
                      },
                      {
                        "args": [
                          {
                            "marker.color": [
                              [
                                "#B0BEC5",
                                "#B0BEC5",
                                "red",
                                "#B0BEC5",
                                "#B0BEC5"
                              ]
                            ]
                          }
                        ],
                        "label": "Topic 2",
                        "method": "update"
                      },
                      {
                        "args": [
                          {
                            "marker.color": [
                              [
                                "#B0BEC5",
                                "#B0BEC5",
                                "#B0BEC5",
                                "red",
                                "#B0BEC5"
                              ]
                            ]
                          }
                        ],
                        "label": "Topic 3",
                        "method": "update"
                      },
                      {
                        "args": [
                          {
                            "marker.color": [
                              [
                                "#B0BEC5",
                                "#B0BEC5",
                                "#B0BEC5",
                                "#B0BEC5",
                                "red"
                              ]
                            ]
                          }
                        ],
                        "label": "Topic 4",
                        "method": "update"
                      }
                    ]
                  }
                ],
                "template": {
                  "data": {
                    "bar": [
                      {
                        "error_x": {
                          "color": "rgb(36,36,36)"
                        },
                        "error_y": {
                          "color": "rgb(36,36,36)"
                        },
                        "marker": {
                          "line": {
                            "color": "white",
                            "width": 0.5
                          },
                          "pattern": {
                            "fillmode": "overlay",
                            "size": 10,
                            "solidity": 0.2
                          }
                        },
                        "type": "bar"
                      }
                    ],
                    "barpolar": [
                      {
                        "marker": {
                          "line": {
                            "color": "white",
                            "width": 0.5
                          },
                          "pattern": {
                            "fillmode": "overlay",
                            "size": 10,
                            "solidity": 0.2
                          }
                        },
                        "type": "barpolar"
                      }
                    ],
                    "carpet": [
                      {
                        "aaxis": {
                          "endlinecolor": "rgb(36,36,36)",
                          "gridcolor": "white",
                          "linecolor": "white",
                          "minorgridcolor": "white",
                          "startlinecolor": "rgb(36,36,36)"
                        },
                        "baxis": {
                          "endlinecolor": "rgb(36,36,36)",
                          "gridcolor": "white",
                          "linecolor": "white",
                          "minorgridcolor": "white",
                          "startlinecolor": "rgb(36,36,36)"
                        },
                        "type": "carpet"
                      }
                    ],
                    "choropleth": [
                      {
                        "colorbar": {
                          "outlinewidth": 1,
                          "tickcolor": "rgb(36,36,36)",
                          "ticks": "outside"
                        },
                        "type": "choropleth"
                      }
                    ],
                    "contour": [
                      {
                        "colorbar": {
                          "outlinewidth": 1,
                          "tickcolor": "rgb(36,36,36)",
                          "ticks": "outside"
                        },
                        "colorscale": [
                          [
                            0,
                            "#440154"
                          ],
                          [
                            0.1111111111111111,
                            "#482878"
                          ],
                          [
                            0.2222222222222222,
                            "#3e4989"
                          ],
                          [
                            0.3333333333333333,
                            "#31688e"
                          ],
                          [
                            0.4444444444444444,
                            "#26828e"
                          ],
                          [
                            0.5555555555555556,
                            "#1f9e89"
                          ],
                          [
                            0.6666666666666666,
                            "#35b779"
                          ],
                          [
                            0.7777777777777778,
                            "#6ece58"
                          ],
                          [
                            0.8888888888888888,
                            "#b5de2b"
                          ],
                          [
                            1,
                            "#fde725"
                          ]
                        ],
                        "type": "contour"
                      }
                    ],
                    "contourcarpet": [
                      {
                        "colorbar": {
                          "outlinewidth": 1,
                          "tickcolor": "rgb(36,36,36)",
                          "ticks": "outside"
                        },
                        "type": "contourcarpet"
                      }
                    ],
                    "heatmap": [
                      {
                        "colorbar": {
                          "outlinewidth": 1,
                          "tickcolor": "rgb(36,36,36)",
                          "ticks": "outside"
                        },
                        "colorscale": [
                          [
                            0,
                            "#440154"
                          ],
                          [
                            0.1111111111111111,
                            "#482878"
                          ],
                          [
                            0.2222222222222222,
                            "#3e4989"
                          ],
                          [
                            0.3333333333333333,
                            "#31688e"
                          ],
                          [
                            0.4444444444444444,
                            "#26828e"
                          ],
                          [
                            0.5555555555555556,
                            "#1f9e89"
                          ],
                          [
                            0.6666666666666666,
                            "#35b779"
                          ],
                          [
                            0.7777777777777778,
                            "#6ece58"
                          ],
                          [
                            0.8888888888888888,
                            "#b5de2b"
                          ],
                          [
                            1,
                            "#fde725"
                          ]
                        ],
                        "type": "heatmap"
                      }
                    ],
                    "heatmapgl": [
                      {
                        "colorbar": {
                          "outlinewidth": 1,
                          "tickcolor": "rgb(36,36,36)",
                          "ticks": "outside"
                        },
                        "colorscale": [
                          [
                            0,
                            "#440154"
                          ],
                          [
                            0.1111111111111111,
                            "#482878"
                          ],
                          [
                            0.2222222222222222,
                            "#3e4989"
                          ],
                          [
                            0.3333333333333333,
                            "#31688e"
                          ],
                          [
                            0.4444444444444444,
                            "#26828e"
                          ],
                          [
                            0.5555555555555556,
                            "#1f9e89"
                          ],
                          [
                            0.6666666666666666,
                            "#35b779"
                          ],
                          [
                            0.7777777777777778,
                            "#6ece58"
                          ],
                          [
                            0.8888888888888888,
                            "#b5de2b"
                          ],
                          [
                            1,
                            "#fde725"
                          ]
                        ],
                        "type": "heatmapgl"
                      }
                    ],
                    "histogram": [
                      {
                        "marker": {
                          "line": {
                            "color": "white",
                            "width": 0.6
                          }
                        },
                        "type": "histogram"
                      }
                    ],
                    "histogram2d": [
                      {
                        "colorbar": {
                          "outlinewidth": 1,
                          "tickcolor": "rgb(36,36,36)",
                          "ticks": "outside"
                        },
                        "colorscale": [
                          [
                            0,
                            "#440154"
                          ],
                          [
                            0.1111111111111111,
                            "#482878"
                          ],
                          [
                            0.2222222222222222,
                            "#3e4989"
                          ],
                          [
                            0.3333333333333333,
                            "#31688e"
                          ],
                          [
                            0.4444444444444444,
                            "#26828e"
                          ],
                          [
                            0.5555555555555556,
                            "#1f9e89"
                          ],
                          [
                            0.6666666666666666,
                            "#35b779"
                          ],
                          [
                            0.7777777777777778,
                            "#6ece58"
                          ],
                          [
                            0.8888888888888888,
                            "#b5de2b"
                          ],
                          [
                            1,
                            "#fde725"
                          ]
                        ],
                        "type": "histogram2d"
                      }
                    ],
                    "histogram2dcontour": [
                      {
                        "colorbar": {
                          "outlinewidth": 1,
                          "tickcolor": "rgb(36,36,36)",
                          "ticks": "outside"
                        },
                        "colorscale": [
                          [
                            0,
                            "#440154"
                          ],
                          [
                            0.1111111111111111,
                            "#482878"
                          ],
                          [
                            0.2222222222222222,
                            "#3e4989"
                          ],
                          [
                            0.3333333333333333,
                            "#31688e"
                          ],
                          [
                            0.4444444444444444,
                            "#26828e"
                          ],
                          [
                            0.5555555555555556,
                            "#1f9e89"
                          ],
                          [
                            0.6666666666666666,
                            "#35b779"
                          ],
                          [
                            0.7777777777777778,
                            "#6ece58"
                          ],
                          [
                            0.8888888888888888,
                            "#b5de2b"
                          ],
                          [
                            1,
                            "#fde725"
                          ]
                        ],
                        "type": "histogram2dcontour"
                      }
                    ],
                    "mesh3d": [
                      {
                        "colorbar": {
                          "outlinewidth": 1,
                          "tickcolor": "rgb(36,36,36)",
                          "ticks": "outside"
                        },
                        "type": "mesh3d"
                      }
                    ],
                    "parcoords": [
                      {
                        "line": {
                          "colorbar": {
                            "outlinewidth": 1,
                            "tickcolor": "rgb(36,36,36)",
                            "ticks": "outside"
                          }
                        },
                        "type": "parcoords"
                      }
                    ],
                    "pie": [
                      {
                        "automargin": true,
                        "type": "pie"
                      }
                    ],
                    "scatter": [
                      {
                        "fillpattern": {
                          "fillmode": "overlay",
                          "size": 10,
                          "solidity": 0.2
                        },
                        "type": "scatter"
                      }
                    ],
                    "scatter3d": [
                      {
                        "line": {
                          "colorbar": {
                            "outlinewidth": 1,
                            "tickcolor": "rgb(36,36,36)",
                            "ticks": "outside"
                          }
                        },
                        "marker": {
                          "colorbar": {
                            "outlinewidth": 1,
                            "tickcolor": "rgb(36,36,36)",
                            "ticks": "outside"
                          }
                        },
                        "type": "scatter3d"
                      }
                    ],
                    "scattercarpet": [
                      {
                        "marker": {
                          "colorbar": {
                            "outlinewidth": 1,
                            "tickcolor": "rgb(36,36,36)",
                            "ticks": "outside"
                          }
                        },
                        "type": "scattercarpet"
                      }
                    ],
                    "scattergeo": [
                      {
                        "marker": {
                          "colorbar": {
                            "outlinewidth": 1,
                            "tickcolor": "rgb(36,36,36)",
                            "ticks": "outside"
                          }
                        },
                        "type": "scattergeo"
                      }
                    ],
                    "scattergl": [
                      {
                        "marker": {
                          "colorbar": {
                            "outlinewidth": 1,
                            "tickcolor": "rgb(36,36,36)",
                            "ticks": "outside"
                          }
                        },
                        "type": "scattergl"
                      }
                    ],
                    "scattermapbox": [
                      {
                        "marker": {
                          "colorbar": {
                            "outlinewidth": 1,
                            "tickcolor": "rgb(36,36,36)",
                            "ticks": "outside"
                          }
                        },
                        "type": "scattermapbox"
                      }
                    ],
                    "scatterpolar": [
                      {
                        "marker": {
                          "colorbar": {
                            "outlinewidth": 1,
                            "tickcolor": "rgb(36,36,36)",
                            "ticks": "outside"
                          }
                        },
                        "type": "scatterpolar"
                      }
                    ],
                    "scatterpolargl": [
                      {
                        "marker": {
                          "colorbar": {
                            "outlinewidth": 1,
                            "tickcolor": "rgb(36,36,36)",
                            "ticks": "outside"
                          }
                        },
                        "type": "scatterpolargl"
                      }
                    ],
                    "scatterternary": [
                      {
                        "marker": {
                          "colorbar": {
                            "outlinewidth": 1,
                            "tickcolor": "rgb(36,36,36)",
                            "ticks": "outside"
                          }
                        },
                        "type": "scatterternary"
                      }
                    ],
                    "surface": [
                      {
                        "colorbar": {
                          "outlinewidth": 1,
                          "tickcolor": "rgb(36,36,36)",
                          "ticks": "outside"
                        },
                        "colorscale": [
                          [
                            0,
                            "#440154"
                          ],
                          [
                            0.1111111111111111,
                            "#482878"
                          ],
                          [
                            0.2222222222222222,
                            "#3e4989"
                          ],
                          [
                            0.3333333333333333,
                            "#31688e"
                          ],
                          [
                            0.4444444444444444,
                            "#26828e"
                          ],
                          [
                            0.5555555555555556,
                            "#1f9e89"
                          ],
                          [
                            0.6666666666666666,
                            "#35b779"
                          ],
                          [
                            0.7777777777777778,
                            "#6ece58"
                          ],
                          [
                            0.8888888888888888,
                            "#b5de2b"
                          ],
                          [
                            1,
                            "#fde725"
                          ]
                        ],
                        "type": "surface"
                      }
                    ],
                    "table": [
                      {
                        "cells": {
                          "fill": {
                            "color": "rgb(237,237,237)"
                          },
                          "line": {
                            "color": "white"
                          }
                        },
                        "header": {
                          "fill": {
                            "color": "rgb(217,217,217)"
                          },
                          "line": {
                            "color": "white"
                          }
                        },
                        "type": "table"
                      }
                    ]
                  },
                  "layout": {
                    "annotationdefaults": {
                      "arrowhead": 0,
                      "arrowwidth": 1
                    },
                    "autotypenumbers": "strict",
                    "coloraxis": {
                      "colorbar": {
                        "outlinewidth": 1,
                        "tickcolor": "rgb(36,36,36)",
                        "ticks": "outside"
                      }
                    },
                    "colorscale": {
                      "diverging": [
                        [
                          0,
                          "rgb(103,0,31)"
                        ],
                        [
                          0.1,
                          "rgb(178,24,43)"
                        ],
                        [
                          0.2,
                          "rgb(214,96,77)"
                        ],
                        [
                          0.3,
                          "rgb(244,165,130)"
                        ],
                        [
                          0.4,
                          "rgb(253,219,199)"
                        ],
                        [
                          0.5,
                          "rgb(247,247,247)"
                        ],
                        [
                          0.6,
                          "rgb(209,229,240)"
                        ],
                        [
                          0.7,
                          "rgb(146,197,222)"
                        ],
                        [
                          0.8,
                          "rgb(67,147,195)"
                        ],
                        [
                          0.9,
                          "rgb(33,102,172)"
                        ],
                        [
                          1,
                          "rgb(5,48,97)"
                        ]
                      ],
                      "sequential": [
                        [
                          0,
                          "#440154"
                        ],
                        [
                          0.1111111111111111,
                          "#482878"
                        ],
                        [
                          0.2222222222222222,
                          "#3e4989"
                        ],
                        [
                          0.3333333333333333,
                          "#31688e"
                        ],
                        [
                          0.4444444444444444,
                          "#26828e"
                        ],
                        [
                          0.5555555555555556,
                          "#1f9e89"
                        ],
                        [
                          0.6666666666666666,
                          "#35b779"
                        ],
                        [
                          0.7777777777777778,
                          "#6ece58"
                        ],
                        [
                          0.8888888888888888,
                          "#b5de2b"
                        ],
                        [
                          1,
                          "#fde725"
                        ]
                      ],
                      "sequentialminus": [
                        [
                          0,
                          "#440154"
                        ],
                        [
                          0.1111111111111111,
                          "#482878"
                        ],
                        [
                          0.2222222222222222,
                          "#3e4989"
                        ],
                        [
                          0.3333333333333333,
                          "#31688e"
                        ],
                        [
                          0.4444444444444444,
                          "#26828e"
                        ],
                        [
                          0.5555555555555556,
                          "#1f9e89"
                        ],
                        [
                          0.6666666666666666,
                          "#35b779"
                        ],
                        [
                          0.7777777777777778,
                          "#6ece58"
                        ],
                        [
                          0.8888888888888888,
                          "#b5de2b"
                        ],
                        [
                          1,
                          "#fde725"
                        ]
                      ]
                    },
                    "colorway": [
                      "#1F77B4",
                      "#FF7F0E",
                      "#2CA02C",
                      "#D62728",
                      "#9467BD",
                      "#8C564B",
                      "#E377C2",
                      "#7F7F7F",
                      "#BCBD22",
                      "#17BECF"
                    ],
                    "font": {
                      "color": "rgb(36,36,36)"
                    },
                    "geo": {
                      "bgcolor": "white",
                      "lakecolor": "white",
                      "landcolor": "white",
                      "showlakes": true,
                      "showland": true,
                      "subunitcolor": "white"
                    },
                    "hoverlabel": {
                      "align": "left"
                    },
                    "hovermode": "closest",
                    "mapbox": {
                      "style": "light"
                    },
                    "paper_bgcolor": "white",
                    "plot_bgcolor": "white",
                    "polar": {
                      "angularaxis": {
                        "gridcolor": "rgb(232,232,232)",
                        "linecolor": "rgb(36,36,36)",
                        "showgrid": false,
                        "showline": true,
                        "ticks": "outside"
                      },
                      "bgcolor": "white",
                      "radialaxis": {
                        "gridcolor": "rgb(232,232,232)",
                        "linecolor": "rgb(36,36,36)",
                        "showgrid": false,
                        "showline": true,
                        "ticks": "outside"
                      }
                    },
                    "scene": {
                      "xaxis": {
                        "backgroundcolor": "white",
                        "gridcolor": "rgb(232,232,232)",
                        "gridwidth": 2,
                        "linecolor": "rgb(36,36,36)",
                        "showbackground": true,
                        "showgrid": false,
                        "showline": true,
                        "ticks": "outside",
                        "zeroline": false,
                        "zerolinecolor": "rgb(36,36,36)"
                      },
                      "yaxis": {
                        "backgroundcolor": "white",
                        "gridcolor": "rgb(232,232,232)",
                        "gridwidth": 2,
                        "linecolor": "rgb(36,36,36)",
                        "showbackground": true,
                        "showgrid": false,
                        "showline": true,
                        "ticks": "outside",
                        "zeroline": false,
                        "zerolinecolor": "rgb(36,36,36)"
                      },
                      "zaxis": {
                        "backgroundcolor": "white",
                        "gridcolor": "rgb(232,232,232)",
                        "gridwidth": 2,
                        "linecolor": "rgb(36,36,36)",
                        "showbackground": true,
                        "showgrid": false,
                        "showline": true,
                        "ticks": "outside",
                        "zeroline": false,
                        "zerolinecolor": "rgb(36,36,36)"
                      }
                    },
                    "shapedefaults": {
                      "fillcolor": "black",
                      "line": {
                        "width": 0
                      },
                      "opacity": 0.3
                    },
                    "ternary": {
                      "aaxis": {
                        "gridcolor": "rgb(232,232,232)",
                        "linecolor": "rgb(36,36,36)",
                        "showgrid": false,
                        "showline": true,
                        "ticks": "outside"
                      },
                      "baxis": {
                        "gridcolor": "rgb(232,232,232)",
                        "linecolor": "rgb(36,36,36)",
                        "showgrid": false,
                        "showline": true,
                        "ticks": "outside"
                      },
                      "bgcolor": "white",
                      "caxis": {
                        "gridcolor": "rgb(232,232,232)",
                        "linecolor": "rgb(36,36,36)",
                        "showgrid": false,
                        "showline": true,
                        "ticks": "outside"
                      }
                    },
                    "title": {
                      "x": 0.05
                    },
                    "xaxis": {
                      "automargin": true,
                      "gridcolor": "rgb(232,232,232)",
                      "linecolor": "rgb(36,36,36)",
                      "showgrid": false,
                      "showline": true,
                      "ticks": "outside",
                      "title": {
                        "standoff": 15
                      },
                      "zeroline": false,
                      "zerolinecolor": "rgb(36,36,36)"
                    },
                    "yaxis": {
                      "automargin": true,
                      "gridcolor": "rgb(232,232,232)",
                      "linecolor": "rgb(36,36,36)",
                      "showgrid": false,
                      "showline": true,
                      "ticks": "outside",
                      "title": {
                        "standoff": 15
                      },
                      "zeroline": false,
                      "zerolinecolor": "rgb(36,36,36)"
                    }
                  }
                },
                "title": {
                  "font": {
                    "color": "Black",
                    "size": 22
                  },
                  "text": "<b>Intertopic Distance Map</b>",
                  "x": 0.5,
                  "xanchor": "center",
                  "y": 0.95,
                  "yanchor": "top"
                },
                "width": 650,
                "xaxis": {
                  "anchor": "y",
                  "domain": [
                    0,
                    1
                  ],
                  "range": [
                    -0.22728517949581145,
                    1.482413101196289
                  ],
                  "title": {
                    "text": ""
                  },
                  "visible": false
                },
                "yaxis": {
                  "anchor": "x",
                  "domain": [
                    0,
                    1
                  ],
                  "range": [
                    3.3615318775177,
                    22.89482183456421
                  ],
                  "title": {
                    "text": ""
                  },
                  "visible": false
                }
              }
            }
          },
          "metadata": {},
          "output_type": "display_data"
        }
      ],
      "source": [
        "model.visualize_topics()\n"
      ]
    },
    {
      "cell_type": "code",
      "execution_count": 49,
      "id": "f2e4a6d3",
      "metadata": {},
      "outputs": [
        {
          "data": {
            "text/html": [
              "<div>\n",
              "<style scoped>\n",
              "    .dataframe tbody tr th:only-of-type {\n",
              "        vertical-align: middle;\n",
              "    }\n",
              "\n",
              "    .dataframe tbody tr th {\n",
              "        vertical-align: top;\n",
              "    }\n",
              "\n",
              "    .dataframe thead th {\n",
              "        text-align: right;\n",
              "    }\n",
              "</style>\n",
              "<table border=\"1\" class=\"dataframe\">\n",
              "  <thead>\n",
              "    <tr style=\"text-align: right;\">\n",
              "      <th></th>\n",
              "      <th>Document</th>\n",
              "      <th>Topic</th>\n",
              "      <th>Name</th>\n",
              "      <th>CustomName</th>\n",
              "      <th>Representation</th>\n",
              "      <th>Representative_Docs</th>\n",
              "      <th>Top_n_words</th>\n",
              "      <th>Probability</th>\n",
              "      <th>Representative_document</th>\n",
              "    </tr>\n",
              "  </thead>\n",
              "  <tbody>\n",
              "    <tr>\n",
              "      <th>0</th>\n",
              "      <td>nirmala sitharaman to equal morarji desai’s re...</td>\n",
              "      <td>4</td>\n",
              "      <td>4_Quarterly Earnings Growth in Indian Banks an...</td>\n",
              "      <td>Business</td>\n",
              "      <td>[Quarterly Earnings Growth in Indian Banks and...</td>\n",
              "      <td>[indusind bank q2 profit jumps 22 to rs 2202 c...</td>\n",
              "      <td>Quarterly Earnings Growth in Indian Banks and ...</td>\n",
              "      <td>0.710833</td>\n",
              "      <td>False</td>\n",
              "    </tr>\n",
              "    <tr>\n",
              "      <th>1</th>\n",
              "      <td>‘will densify network want to be at least no 2...</td>\n",
              "      <td>-1</td>\n",
              "      <td>-1_Rupee falls against US dollar trend in Indi...</td>\n",
              "      <td>-1_Rupee falls against US dollar in trading fl...</td>\n",
              "      <td>[Rupee falls against US dollar trend in India ...</td>\n",
              "      <td>[rupee falls 4 paise to 8332 against us dollar...</td>\n",
              "      <td>Rupee falls against US dollar trend in India t...</td>\n",
              "      <td>0.000000</td>\n",
              "      <td>False</td>\n",
              "    </tr>\n",
              "    <tr>\n",
              "      <th>2</th>\n",
              "      <td>air india group to induct an aircraft every si...</td>\n",
              "      <td>-1</td>\n",
              "      <td>-1_Rupee falls against US dollar trend in Indi...</td>\n",
              "      <td>-1_Rupee falls against US dollar in trading fl...</td>\n",
              "      <td>[Rupee falls against US dollar trend in India ...</td>\n",
              "      <td>[rupee falls 4 paise to 8332 against us dollar...</td>\n",
              "      <td>Rupee falls against US dollar trend in India t...</td>\n",
              "      <td>0.000000</td>\n",
              "      <td>False</td>\n",
              "    </tr>\n",
              "    <tr>\n",
              "      <th>3</th>\n",
              "      <td>red sea woes exporters seek increased credit a...</td>\n",
              "      <td>4</td>\n",
              "      <td>4_Quarterly Earnings Growth in Indian Banks an...</td>\n",
              "      <td>Business</td>\n",
              "      <td>[Quarterly Earnings Growth in Indian Banks and...</td>\n",
              "      <td>[indusind bank q2 profit jumps 22 to rs 2202 c...</td>\n",
              "      <td>Quarterly Earnings Growth in Indian Banks and ...</td>\n",
              "      <td>0.634040</td>\n",
              "      <td>False</td>\n",
              "    </tr>\n",
              "    <tr>\n",
              "      <th>4</th>\n",
              "      <td>air india group to induct a plane every 6 days...</td>\n",
              "      <td>-1</td>\n",
              "      <td>-1_Rupee falls against US dollar trend in Indi...</td>\n",
              "      <td>-1_Rupee falls against US dollar in trading fl...</td>\n",
              "      <td>[Rupee falls against US dollar trend in India ...</td>\n",
              "      <td>[rupee falls 4 paise to 8332 against us dollar...</td>\n",
              "      <td>Rupee falls against US dollar trend in India t...</td>\n",
              "      <td>0.000000</td>\n",
              "      <td>False</td>\n",
              "    </tr>\n",
              "  </tbody>\n",
              "</table>\n",
              "</div>"
            ],
            "text/plain": [
              "                                            Document  Topic  \\\n",
              "0  nirmala sitharaman to equal morarji desai’s re...      4   \n",
              "1  ‘will densify network want to be at least no 2...     -1   \n",
              "2  air india group to induct an aircraft every si...     -1   \n",
              "3  red sea woes exporters seek increased credit a...      4   \n",
              "4  air india group to induct a plane every 6 days...     -1   \n",
              "\n",
              "                                                Name  \\\n",
              "0  4_Quarterly Earnings Growth in Indian Banks an...   \n",
              "1  -1_Rupee falls against US dollar trend in Indi...   \n",
              "2  -1_Rupee falls against US dollar trend in Indi...   \n",
              "3  4_Quarterly Earnings Growth in Indian Banks an...   \n",
              "4  -1_Rupee falls against US dollar trend in Indi...   \n",
              "\n",
              "                                          CustomName  \\\n",
              "0                                           Business   \n",
              "1  -1_Rupee falls against US dollar in trading fl...   \n",
              "2  -1_Rupee falls against US dollar in trading fl...   \n",
              "3                                           Business   \n",
              "4  -1_Rupee falls against US dollar in trading fl...   \n",
              "\n",
              "                                      Representation  \\\n",
              "0  [Quarterly Earnings Growth in Indian Banks and...   \n",
              "1  [Rupee falls against US dollar trend in India ...   \n",
              "2  [Rupee falls against US dollar trend in India ...   \n",
              "3  [Quarterly Earnings Growth in Indian Banks and...   \n",
              "4  [Rupee falls against US dollar trend in India ...   \n",
              "\n",
              "                                 Representative_Docs  \\\n",
              "0  [indusind bank q2 profit jumps 22 to rs 2202 c...   \n",
              "1  [rupee falls 4 paise to 8332 against us dollar...   \n",
              "2  [rupee falls 4 paise to 8332 against us dollar...   \n",
              "3  [indusind bank q2 profit jumps 22 to rs 2202 c...   \n",
              "4  [rupee falls 4 paise to 8332 against us dollar...   \n",
              "\n",
              "                                         Top_n_words  Probability  \\\n",
              "0  Quarterly Earnings Growth in Indian Banks and ...     0.710833   \n",
              "1  Rupee falls against US dollar trend in India t...     0.000000   \n",
              "2  Rupee falls against US dollar trend in India t...     0.000000   \n",
              "3  Quarterly Earnings Growth in Indian Banks and ...     0.634040   \n",
              "4  Rupee falls against US dollar trend in India t...     0.000000   \n",
              "\n",
              "   Representative_document  \n",
              "0                    False  \n",
              "1                    False  \n",
              "2                    False  \n",
              "3                    False  \n",
              "4                    False  "
            ]
          },
          "execution_count": 49,
          "metadata": {},
          "output_type": "execute_result"
        }
      ],
      "source": [
        "model.get_document_info(topic_model_df[\"headlines\"]).head(5)"
      ]
    },
    {
      "cell_type": "code",
      "execution_count": 82,
      "id": "c458aa82",
      "metadata": {},
      "outputs": [],
      "source": [
        "model.save(\"topic_model\", serialization=\"safetensors\", save_ctfidf=True)"
      ]
    },
    {
      "cell_type": "code",
      "execution_count": 50,
      "id": "88b67fb3",
      "metadata": {},
      "outputs": [],
      "source": [
        "def target(data):\n",
        "    if data == 0:\n",
        "        return \"Entertainment\"\n",
        "    elif data == 1:\n",
        "        return \"Education\"\n",
        "    elif data == 2:\n",
        "        return \"Sports\"\n",
        "    elif data == 3:\n",
        "        return \"Technology\"\n",
        "    elif data == 4:\n",
        "        return \"Business\"\n",
        "    else:\n",
        "        return \"Unknown\"\n"
      ]
    },
    {
      "cell_type": "code",
      "execution_count": 53,
      "id": "19c804f5",
      "metadata": {},
      "outputs": [
        {
          "name": "stderr",
          "output_type": "stream",
          "text": [
            "100%|██████████| 2/2 [00:00<00:00, 143.79it/s]\n",
            "2024-10-15 19:34:34,081 - BERTopic - Dimensionality - Reducing dimensionality of input embeddings.\n",
            "2024-10-15 19:34:34,758 - BERTopic - Dimensionality - Completed ✓\n",
            "2024-10-15 19:34:34,758 - BERTopic - Clustering - Approximating new points with `hdbscan_model`\n",
            "2024-10-15 19:34:34,760 - BERTopic - Cluster - Completed ✓\n"
          ]
        },
        {
          "name": "stdout",
          "output_type": "stream",
          "text": [
            " predicted topic: 0 with probability: (1, 1.0)\n",
            " predicted topic: 1 with probability: (3, 1.0)\n"
          ]
        }
      ],
      "source": [
        "# New documents for prediction\n",
        "new_documents = [\"This is a new document about data science and machine learning.\",\n",
        "                 \"Another document discussing the impact of AI on healthcare.\"]\n",
        "\n",
        "# Predict topics for the new documents\n",
        "topics, probs = model.transform(new_documents)\n",
        "\n",
        "# Print predicted topics and their probabilities\n",
        "for topic, prob in enumerate(zip(topics, probs)):\n",
        "    print(f\" predicted topic: {target(topic)} with probability: {prob}\")\n"
      ]
    },
    {
      "cell_type": "code",
      "execution_count": 98,
      "id": "00839a64",
      "metadata": {},
      "outputs": [
        {
          "name": "stdout",
          "output_type": "stream",
          "text": [
            "   Topic  Count                                               Name  \\\n",
            "0     -1    261                   -1_rupee falls against US dollar   \n",
            "1      0   2012  0_Bollywood Box Office Collection Reports - Sh...   \n",
            "2      1   1997  1_Admission and Counselling Updates for Variou...   \n",
            "3      2   1983  2_Latest Tech News Highlights - AI Innovations...   \n",
            "4      3   1917  3_Indian companies' profit growth in Q1 and Q2...   \n",
            "5      4   1830  4_India-Australia World Cup Matches and Live S...   \n",
            "\n",
            "                         CustomName  \\\n",
            "0  -1_rupee falls against US dollar   \n",
            "1                     Entertainment   \n",
            "2                         Education   \n",
            "3                        Technology   \n",
            "4                          Business   \n",
            "5                            Sports   \n",
            "\n",
            "                                      Representation  \\\n",
            "0                    [rupee falls against US dollar]   \n",
            "1  [Bollywood Box Office Collection Reports - Sha...   \n",
            "2  [Admission and Counselling Updates for Various...   \n",
            "3  [Latest Tech News Highlights - AI Innovations ...   \n",
            "4  [Indian companies' profit growth in Q1 and Q2 ...   \n",
            "5  [India-Australia World Cup Matches and Live St...   \n",
            "\n",
            "                                 Representative_Docs  \n",
            "0  [rupee falls by 9 paise to 8318 against us dol...  \n",
            "1  [sam bahadur box office collection day 1 early...  \n",
            "2  [du admissions 2023 list of top delhi universi...  \n",
            "3  [google working on new ai assistant for pixel ...  \n",
            "4  [indusind bank q2 profit jumps 22 to rs 2202 c...  \n",
            "5  [ind vs ban live streaming u19 world cup 2024 ...  \n"
          ]
        }
      ],
      "source": [
        "topic_info = model.get_topic_info()\n",
        "print(topic_info)\n"
      ]
    }
  ],
  "metadata": {
    "accelerator": "GPU",
    "colab": {
      "gpuType": "T4",
      "provenance": []
    },
    "kernelspec": {
      "display_name": "Python 3",
      "name": "python3"
    },
    "language_info": {
      "codemirror_mode": {
        "name": "ipython",
        "version": 3
      },
      "file_extension": ".py",
      "mimetype": "text/x-python",
      "name": "python",
      "nbconvert_exporter": "python",
      "pygments_lexer": "ipython3",
      "version": "3.11.9"
    }
  },
  "nbformat": 4,
  "nbformat_minor": 5
}
